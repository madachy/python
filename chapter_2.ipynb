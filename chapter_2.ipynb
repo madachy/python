{
  "cells": [
    {
      "cell_type": "markdown",
      "metadata": {
        "id": "view-in-github",
        "colab_type": "text"
      },
      "source": [
        "<a href=\"https://colab.research.google.com/github/madachy/python/blob/master/chapter_2.ipynb\" target=\"_parent\"><img src=\"https://colab.research.google.com/assets/colab-badge.svg\" alt=\"Open In Colab\"/></a>"
      ]
    },
    {
      "cell_type": "code",
      "execution_count": 3,
      "id": "853f8340",
      "metadata": {
        "colab": {
          "base_uri": "https://localhost:8080/",
          "height": 131
        },
        "id": "853f8340",
        "outputId": "8779f0fa-afa4-4d9e-c0fb-809d00e29399"
      },
      "outputs": [
        {
          "output_type": "error",
          "ename": "SyntaxError",
          "evalue": "ignored",
          "traceback": [
            "\u001b[0;36m  File \u001b[0;32m\"<ipython-input-3-6c3dae931e7e>\"\u001b[0;36m, line \u001b[0;32m2\u001b[0m\n\u001b[0;31m    🥧 = 2\u001b[0m\n\u001b[0m    ^\u001b[0m\n\u001b[0;31mSyntaxError\u001b[0m\u001b[0;31m:\u001b[0m invalid character '🥧' (U+1F967)\n"
          ]
        }
      ],
      "source": [
        "print(\"Hello engineers \" + \"all around the world.🥧\")\n",
        "🥧 = 2\n",
        "print(🥧)"
      ]
    },
    {
      "cell_type": "code",
      "execution_count": 4,
      "id": "927288a6",
      "metadata": {
        "colab": {
          "base_uri": "https://localhost:8080/"
        },
        "id": "927288a6",
        "outputId": "51f5a28c-fab1-43f5-bb53-b804f57f50f9"
      },
      "outputs": [
        {
          "output_type": "stream",
          "name": "stdout",
          "text": [
            "time   x      y     \n",
            "0.00   1800   1000  \n",
            "0.10   1720   838   \n",
            "0.20   1653   683   \n",
            "0.30   1598   534   \n",
            "0.40   1556   391   \n",
            "0.50   1524   251   \n",
            "0.60   1504   113   \n",
            "0.70   1495   0     \n"
          ]
        }
      ],
      "source": [
        "# Battle Simulator Using Lanchester's Law for Aimed Fire\n",
        "\n",
        "# simulation inputs\n",
        "x0, y0 = 1800, 1000 # starting troop levels for x, y\n",
        "a, b = .9, .8 # lethality coefficients for x, y\n",
        "dt = .1 # integration timestep\n",
        "\n",
        "# initializations\n",
        "time, x, y = 0, x0, y0\n",
        "\n",
        "# print output header and starting values\n",
        "print (f\"{'time':<6} {'x':<6} {'y':<6}\") # all columns left justified 6 characters\n",
        "print (f\"{time:<6.2f} {x:<6.0f} {y:<6.0f}\")\n",
        "\n",
        "# integration of troop levels using Euler's method\n",
        "while x > 0 and y > 0: # run until a troop is eliminated\n",
        "    time += dt \n",
        "    Δx = -b * y\n",
        "    Δy = -a * x\n",
        "    x += Δx * dt\n",
        "    y += Δy * dt\n",
        "    print (f\"{time:<6.2f} {max(x, 0):<6.0f} {max(y, 0):<6.0f}\") # max will clip negative end values due to dt timestep approximation"
      ]
    },
    {
      "cell_type": "code",
      "execution_count": null,
      "id": "0ccc5637",
      "metadata": {
        "id": "0ccc5637",
        "outputId": "ff2e7c1e-32f6-4d88-c477-e839e68bbda0"
      },
      "outputs": [
        {
          "name": "stdout",
          "output_type": "stream",
          "text": [
            "  time   x      y   \n",
            "  0.00    800   1000\n",
            "  0.10    720    928\n",
            "  0.20    646    863\n",
            "  0.30    577    805\n",
            "  0.40    512    753\n",
            "  0.50    452    707\n",
            "  0.60    395    666\n",
            "  0.70    342    631\n",
            "  0.80    292    600\n",
            "  0.90    244    574\n",
            "  1.00    198    552\n",
            "  1.10    154    534\n",
            "  1.20    111    520\n",
            "  1.30     69    510\n",
            "  1.40     29    504\n",
            "  1.50      0    501\n"
          ]
        }
      ],
      "source": [
        "# Battle Simulator Using Lanchester's Law for Aimed Fire\n",
        "\n",
        "# simulation inputs\n",
        "x0, y0 = 800, 1000 # starting troop levels for x, y\n",
        "a, b = .9, .8 # lethality coefficients for x, y\n",
        "dt = .1 # integration timestep\n",
        "\n",
        "# initializations\n",
        "time, x, y = 0, x0, y0\n",
        "\n",
        "# print output header and starting values\n",
        "print (f\"{'time':>6} {'x':^6} {'y':^6}\") # all columns left justified 6 characters\n",
        "print (f\"{time:>6.2f} {x:>6.0f} {y:>6.0f}\")\n",
        "\n",
        "# integration of troop levels using Euler's method\n",
        "while x > 0 and y > 0: # run until a troop is eliminated\n",
        "    time += dt \n",
        "    Δx = -b * y\n",
        "    Δy = -a * x\n",
        "    x += Δx * dt\n",
        "    y += Δy * dt\n",
        "    print (f\"{time:>6.2f} {max(x, 0):>6.0f} {max(y, 0):>6.0f}\") # max will clip negative end values due to dt timestep approximation"
      ]
    },
    {
      "cell_type": "code",
      "execution_count": null,
      "id": "e58d8d1f",
      "metadata": {
        "id": "e58d8d1f",
        "outputId": "8555b905-795c-4452-fe04-f4fc32e5b32b"
      },
      "outputs": [
        {
          "name": "stdout",
          "output_type": "stream",
          "text": [
            "time   x      y     \n",
            "0.00   800    1000  \n",
            "0.02   784    986    -800   -720  \n",
            "0.04   768    971    -788   -706  \n",
            "0.06   753    958    -777   -691  \n",
            "0.08   737    944    -766   -677  \n",
            "0.10   722    931    -755   -664  \n",
            "0.12   707    918    -745   -650  \n",
            "0.14   693    905    -734   -637  \n",
            "0.16   678    893    -724   -623  \n",
            "0.18   664    880    -714   -610  \n",
            "0.20   650    868    -704   -598  \n",
            "0.22   636    857    -695   -585  \n",
            "0.24   622    845    -685   -572  \n",
            "0.26   609    834    -676   -560  \n",
            "0.28   595    823    -667   -548  \n",
            "0.30   582    812    -659   -536  \n",
            "0.32   569    802    -650   -524  \n",
            "0.34   556    792    -642   -512  \n",
            "0.36   544    782    -633   -501  \n",
            "0.38   531    772    -625   -489  \n",
            "0.40   519    762    -618   -478  \n",
            "0.42   507    753    -610   -467  \n",
            "0.44   495    744    -602   -456  \n",
            "0.46   483    735    -595   -445  \n",
            "0.48   471    726    -588   -434  \n",
            "0.50   459    718    -581   -424  \n",
            "0.52   448    710    -574   -413  \n",
            "0.54   436    702    -568   -403  \n",
            "0.56   425    694    -561   -393  \n",
            "0.58   414    686    -555   -383  \n",
            "0.60   403    679    -549   -373  \n",
            "0.62   392    671    -543   -363  \n",
            "0.64   382    664    -537   -353  \n",
            "0.66   371    657    -531   -343  \n",
            "0.68   360    651    -526   -334  \n",
            "0.70   350    644    -521   -324  \n",
            "0.72   340    638    -515   -315  \n",
            "0.74   329    632    -510   -306  \n",
            "0.76   319    626    -505   -297  \n",
            "0.78   309    620    -501   -287  \n",
            "0.80   299    615    -496   -278  \n",
            "0.82   290    609    -492   -269  \n",
            "0.84   280    604    -487   -261  \n",
            "0.86   270    599    -483   -252  \n",
            "0.88   261    594    -479   -243  \n",
            "0.90   251    589    -475   -235  \n",
            "0.92   242    585    -471   -226  \n",
            "0.94   232    580    -468   -218  \n",
            "0.96   223    576    -464   -209  \n",
            "0.98   214    572    -461   -201  \n",
            "1.00   205    568    -458   -192  \n",
            "1.02   196    565    -455   -184  \n",
            "1.04   187    561    -452   -176  \n",
            "1.06   178    558    -449   -168  \n",
            "1.08   169    555    -446   -160  \n",
            "1.10   160    552    -444   -152  \n",
            "1.12   151    549    -441   -144  \n",
            "1.14   142    546    -439   -136  \n",
            "1.16   133    543    -437   -128  \n",
            "1.18   125    541    -435   -120  \n",
            "1.20   116    539    -433   -112  \n",
            "1.22   107    537    -431   -104  \n",
            "1.24   99     535    -429   -97   \n",
            "1.26   90     533    -428   -89   \n",
            "1.28   82     531    -426   -81   \n",
            "1.30   73     530    -425   -74   \n",
            "1.32   65     529    -424   -66   \n",
            "1.34   56     527    -423   -58   \n",
            "1.36   48     526    -422   -51   \n",
            "1.38   39     526    -421   -43   \n",
            "1.40   31     525    -420   -36   \n",
            "1.42   23     524    -420   -28   \n",
            "1.44   14     524    -419   -20   \n",
            "1.46   6      524    -419   -13   \n",
            "1.48   0      524    -419   -5    \n"
          ]
        }
      ],
      "source": [
        "# Battle Simulator Using Lanchester's Law\n",
        "\n",
        "# simulation inputs\n",
        "x0, y0 = 800, 1000\n",
        "a, b = .9, .8\n",
        "dt = .02\n",
        "\n",
        "# initializations\n",
        "time, x, y = 0, x0, y0\n",
        "\n",
        "# print output header and starting values\n",
        "print (f\"{'time':<6} {'x':<6} {'y':<6}\") # all columns left justified 6 characters\n",
        "print (f\"{time:<6.2f} {x:<6.0f} {y:<6.0f}\")\n",
        "\n",
        "# integration of troop levels using Euler's method\n",
        "while x > 0 and y > 0: # run until a troop is eliminated\n",
        "    time += dt \n",
        "    Δx = -b * y\n",
        "    Δy = -a * x\n",
        "    x += Δx * dt\n",
        "    y += Δy * dt\n",
        "    print (f\"{time:<6.2f} {max(x, 0):<6.0f} {max(y, 0):<6.0f} {Δx:<6.0f} {Δy:<6.0f}\") # max will clip negative end values due to timestep approximation"
      ]
    },
    {
      "cell_type": "code",
      "execution_count": null,
      "id": "b1e13c5d",
      "metadata": {
        "id": "b1e13c5d"
      },
      "outputs": [],
      "source": [
        "# Battle Simulator Using Lanchester's Law\n",
        "\n",
        "# simulation inputs\n",
        "x0, y0 = 800, 1000\n",
        "a, b = .9, .8\n",
        "dt = .1\n",
        "\n",
        "# initializations\n",
        "time, x, y = 0, x0, y0\n",
        "\n",
        "# print output header and starting values\n",
        "print (f\"{'time':<6} {'x':<6} {'y':<6}\") # all columns left justified 6 characters\n",
        "print (f\"{time:<6.2f} {x:<6.0f} {y:<6.0f}\")\n",
        "\n",
        "# integration of troop levels using Euler's method\n",
        "while x > 0 and y > 0: # run until a troop is eliminated\n",
        "    time += dt \n",
        "    Δx = -b * y\n",
        "    Δy = -a * x\n",
        "    x += Δx * dt\n",
        "    y += Δy * dt\n",
        "    print (f\"{time:<6.2f} {max(x, 0):<6.0f} {max(y, 0):<6.0f} {Δx:<6.0f} {Δy:<6.0f}\") # max will clip negative end values due to timestep approximation"
      ]
    },
    {
      "cell_type": "code",
      "execution_count": null,
      "id": "2f283e4f",
      "metadata": {
        "id": "2f283e4f",
        "outputId": "f2f58c99-1de9-4604-c341-98f6d8bc7b29"
      },
      "outputs": [
        {
          "name": "stdout",
          "output_type": "stream",
          "text": [
            "What is your name? r\n",
            "Hello r\n",
            "What is the radius of the sphere? 7\n",
            "7.0\n"
          ]
        }
      ],
      "source": [
        "name = input(\"What is your name? \")\n",
        "print(\"Hello\", name)\n",
        "\n",
        "\n",
        "radius = float(input(\"What is the radius of the sphere? \"))\n",
        "print(radius)"
      ]
    },
    {
      "cell_type": "code",
      "execution_count": null,
      "id": "50b3d130",
      "metadata": {
        "id": "50b3d130"
      },
      "outputs": [],
      "source": []
    },
    {
      "cell_type": "code",
      "execution_count": null,
      "id": "8a9b05d6",
      "metadata": {
        "id": "8a9b05d6",
        "outputId": "beb310a2-44ac-4137-cea2-1c0c121585a9"
      },
      "outputs": [
        {
          "name": "stdout",
          "output_type": "stream",
          "text": [
            "What is the number to square? 5\n",
            "5.0 squared =  25.0\n"
          ]
        }
      ],
      "source": [
        "number = float(input('What is the number to square? ')) \n",
        "print(number, 'squared = ', number * number)"
      ]
    },
    {
      "cell_type": "code",
      "execution_count": null,
      "id": "a9e46953-5da6-464a-b83f-5647b054ee78",
      "metadata": {
        "id": "a9e46953-5da6-464a-b83f-5647b054ee78",
        "outputId": "17624400-cb76-4b66-8009-139ea74ba0f0"
      },
      "outputs": [
        {
          "data": {
            "text/plain": [
              "'Medium'"
            ]
          },
          "execution_count": 9,
          "metadata": {},
          "output_type": "execute_result"
        }
      ],
      "source": [
        "complexity = 8\n",
        "\n",
        "if complexity > 10:\n",
        "    risk = \"High\"\n",
        "elif complexity > 5:\n",
        "    risk = \"Medium\"\n",
        "else:\n",
        "    risk = \"Low\"\n",
        "    \n",
        "risk\n",
        "\n",
        "risk = \"High\" if complexity > 10  else \"Medium\" if complexity > 5 else \"Low\"\n",
        "\n",
        "risk"
      ]
    },
    {
      "cell_type": "code",
      "execution_count": null,
      "id": "355b01fe",
      "metadata": {
        "id": "355b01fe",
        "outputId": "4382a9f9-d862-45f6-f124-7505a8fcf580"
      },
      "outputs": [
        {
          "data": {
            "text/plain": [
              "3.141592653589793"
            ]
          },
          "execution_count": 12,
          "metadata": {},
          "output_type": "execute_result"
        }
      ],
      "source": [
        "import math\n",
        "math.pi"
      ]
    },
    {
      "cell_type": "code",
      "execution_count": null,
      "id": "8731f557-7e68-4127-b6ab-ff6be718c8cd",
      "metadata": {
        "id": "8731f557-7e68-4127-b6ab-ff6be718c8cd",
        "outputId": "89745ffb-7362-4b70-c75f-34500a74d599"
      },
      "outputs": [
        {
          "data": {
            "text/plain": [
              "'3.14159'"
            ]
          },
          "execution_count": 18,
          "metadata": {},
          "output_type": "execute_result"
        }
      ],
      "source": [
        "str(3.14159)"
      ]
    },
    {
      "cell_type": "code",
      "execution_count": null,
      "id": "b1fa7bfe",
      "metadata": {
        "id": "b1fa7bfe",
        "outputId": "548d9a63-cd6a-4aae-8a80-a29797f38da8"
      },
      "outputs": [
        {
          "data": {
            "text/plain": [
              "3"
            ]
          },
          "execution_count": 16,
          "metadata": {},
          "output_type": "execute_result"
        }
      ],
      "source": [
        "int(3.14159)"
      ]
    },
    {
      "cell_type": "code",
      "execution_count": null,
      "id": "3767765e",
      "metadata": {
        "id": "3767765e",
        "outputId": "4f210f83-7486-4955-ff96-17b9236faa1b"
      },
      "outputs": [
        {
          "data": {
            "text/plain": [
              "3.14159"
            ]
          },
          "execution_count": 20,
          "metadata": {},
          "output_type": "execute_result"
        }
      ],
      "source": [
        "float('3.14159')"
      ]
    },
    {
      "cell_type": "code",
      "execution_count": 5,
      "id": "29c6d0e5",
      "metadata": {
        "colab": {
          "base_uri": "https://localhost:8080/",
          "height": 235
        },
        "id": "29c6d0e5",
        "outputId": "327fca11-8d28-4da5-b90f-660bfc58854a"
      },
      "outputs": [
        {
          "output_type": "error",
          "ename": "NameError",
          "evalue": "ignored",
          "traceback": [
            "\u001b[0;31m---------------------------------------------------------------------------\u001b[0m",
            "\u001b[0;31mNameError\u001b[0m                                 Traceback (most recent call last)",
            "\u001b[0;32m<ipython-input-5-ffbceb49e95b>\u001b[0m in \u001b[0;36m<cell line: 4>\u001b[0;34m()\u001b[0m\n\u001b[1;32m      2\u001b[0m \u001b[0mr\u001b[0m \u001b[0;34m=\u001b[0m \u001b[0;36m5\u001b[0m\u001b[0;34m\u001b[0m\u001b[0;34m\u001b[0m\u001b[0m\n\u001b[1;32m      3\u001b[0m \u001b[0mradius\u001b[0m \u001b[0;34m=\u001b[0m \u001b[0;36m5\u001b[0m\u001b[0;34m\u001b[0m\u001b[0;34m\u001b[0m\u001b[0m\n\u001b[0;32m----> 4\u001b[0;31m \u001b[0mvolume\u001b[0m \u001b[0;34m=\u001b[0m \u001b[0;36m4\u001b[0m\u001b[0;34m/\u001b[0m\u001b[0;36m3\u001b[0m \u001b[0;34m*\u001b[0m \u001b[0mPI\u001b[0m \u001b[0;34m*\u001b[0m \u001b[0mradius\u001b[0m\u001b[0;34m**\u001b[0m\u001b[0;36m3\u001b[0m\u001b[0;34m\u001b[0m\u001b[0;34m\u001b[0m\u001b[0m\n\u001b[0m\u001b[1;32m      5\u001b[0m \u001b[0;34m\u001b[0m\u001b[0m\n\u001b[1;32m      6\u001b[0m \u001b[0mprint\u001b[0m\u001b[0;34m(\u001b[0m\u001b[0;34m'Volume of a sphere with radius'\u001b[0m\u001b[0;34m,\u001b[0m \u001b[0mr\u001b[0m\u001b[0;34m,\u001b[0m \u001b[0;34m'is'\u001b[0m\u001b[0;34m,\u001b[0m \u001b[0mvolume\u001b[0m\u001b[0;34m)\u001b[0m\u001b[0;34m\u001b[0m\u001b[0;34m\u001b[0m\u001b[0m\n",
            "\u001b[0;31mNameError\u001b[0m: name 'PI' is not defined"
          ]
        }
      ],
      "source": [
        "pi = 3.1415926535897931\n",
        "r = 5\n",
        "radius = 5\n",
        "volume = 4/3 * PI * radius**3\n",
        "\n",
        "print('Volume of a sphere with radius', r, 'is', volume)\n",
        "\n",
        "print(f'Volume of a sphere with radius {r} is {volume:.1f}')\n",
        "\n",
        "print('Volume of a sphere with radius {} is {:.1f}'.format(r, volume))\n",
        "\n",
        "print('Volume of a sphere with radius {radius} is {volume:.1f}'.format(radius = 5, volume = 4/3 * pi * r**3))\n",
        "\n",
        "print('Volume of a sphere with radius %s is %.1f' %  (r, volume))\n",
        "\n",
        "print(f'Volume = {volume:2.2f}')\n",
        "\n",
        "\n",
        "print(f\"{4/3 * PI * radius**3 = :.1f}\")"
      ]
    },
    {
      "cell_type": "code",
      "execution_count": null,
      "id": "f7330269",
      "metadata": {
        "id": "f7330269",
        "outputId": "7a5fd896-be79-4485-dd8a-261971d2094a"
      },
      "outputs": [
        {
          "name": "stdout",
          "output_type": "stream",
          "text": [
            "Volume of a sphere with radius 5 is 523.6\n"
          ]
        }
      ],
      "source": [
        "def volume(radius):\n",
        "    PI = 3.14159\n",
        "    volume = 4 / 3 * PI * radius ** 3\n",
        "    return(volume)\n",
        "\n",
        "radius = 5\n",
        "print(f'Volume of a sphere with radius {radius} is {volume(radius):.1f}')\n",
        "\n",
        "\n",
        "def volume(radius, print_flag=False):\n",
        "    PI = 3.14159\n",
        "    volume = 4 / 3 * PI * radius ** 3\n",
        "    if print_flag == False:\n",
        "        return(volume)\n",
        "    else:\n",
        "        print(f'Volume of a sphere with radius {radius} is {volume(radius):.1f}')\n",
        "\n",
        "        \n",
        "volume(20)       # mandatory argument only\n",
        "volume(20, True) # mandatory and optional arguments\n",
        "    "
      ]
    },
    {
      "cell_type": "code",
      "execution_count": null,
      "id": "18d263fe",
      "metadata": {
        "id": "18d263fe"
      },
      "outputs": [],
      "source": [
        "volume(20)                          # 1 positional argument\n",
        "volume(radius=40)                   # 1 keyword argument\n",
        "volume(radius=40, print_flag=True)  # 2 keyword arguments\n",
        "volume(print_flag=True, radius=40)  # 2 keyword arguments different order\n",
        "volume(55, True)                    # 2 positional arguments\n",
        "volume(60, print_flag=True)         # 1 positional, 1 keyword"
      ]
    },
    {
      "cell_type": "code",
      "execution_count": null,
      "id": "a353fd12",
      "metadata": {
        "id": "a353fd12",
        "outputId": "1878857d-6156-4360-9c89-be84cd86cabb"
      },
      "outputs": [
        {
          "name": "stdout",
          "output_type": "stream",
          "text": [
            "[11, 12, 23, 24, 15, 16]\n"
          ]
        }
      ],
      "source": [
        "test1_output = [11, 12, 23]\n",
        "test2_output = [24, 15, 16]\n",
        "total_output = test1_output  + test2_output\n",
        "print(total_output)"
      ]
    },
    {
      "cell_type": "markdown",
      "id": "9c5f2142",
      "metadata": {
        "id": "9c5f2142"
      },
      "source": [
        "# vvv"
      ]
    },
    {
      "cell_type": "code",
      "execution_count": null,
      "id": "ca4a0b96-185b-46dc-a269-37737a1634cc",
      "metadata": {
        "id": "ca4a0b96-185b-46dc-a269-37737a1634cc",
        "outputId": "501b603b-82d1-4f23-8093-b7ac8ccfbffc"
      },
      "outputs": [
        {
          "data": {
            "text/plain": [
              "'Low'"
            ]
          },
          "execution_count": 24,
          "metadata": {},
          "output_type": "execute_result"
        }
      ],
      "source": [
        "complexity = 3\n",
        "risk = \"High\" if complexity > 10  else \"Medium\" if complexity > 5 else \"Low\"\n",
        "risk"
      ]
    },
    {
      "cell_type": "code",
      "execution_count": null,
      "id": "ff7d22da-638a-4f74-86bd-1485cc5287e7",
      "metadata": {
        "id": "ff7d22da-638a-4f74-86bd-1485cc5287e7",
        "outputId": "51e78aab-77d7-492a-de83-4c88d5a48d06"
      },
      "outputs": [
        {
          "name": "stdout",
          "output_type": "stream",
          "text": [
            "[4, 6, 9]\n",
            "[8, 12, 18]\n"
          ]
        }
      ],
      "source": [
        "numbers = [4, 6, 9]\n",
        "\n",
        "for number in numbers:\n",
        "    number = number * 2\n",
        "\n",
        "print(numbers)\n",
        "    \n",
        "numbers = [4, 6, 9]\n",
        "\n",
        "for i in range(len(numbers)):\n",
        "    numbers[i] = numbers[i] * 2\n",
        "    \n",
        "print(numbers)"
      ]
    },
    {
      "cell_type": "code",
      "execution_count": null,
      "id": "5b94f37f-aa3f-44d1-8bee-4528f2132393",
      "metadata": {
        "id": "5b94f37f-aa3f-44d1-8bee-4528f2132393",
        "outputId": "0283aae3-b31a-4ed9-e2aa-cf23cae491bf"
      },
      "outputs": [
        {
          "data": {
            "text/plain": [
              "[35, 38, 41, 45]"
            ]
          },
          "execution_count": 6,
          "metadata": {},
          "output_type": "execute_result"
        }
      ],
      "source": [
        "temperatures = [45, 38, 41, 35]\n",
        "temperatures.sort()\n",
        "temperatures"
      ]
    },
    {
      "cell_type": "markdown",
      "id": "75a05b8d-093e-4d01-8519-e2f547bf5c76",
      "metadata": {
        "id": "75a05b8d-093e-4d01-8519-e2f547bf5c76"
      },
      "source": [
        "## dictionaries"
      ]
    },
    {
      "cell_type": "code",
      "execution_count": null,
      "id": "28d758de-2ecd-44d3-b933-5688284d7e31",
      "metadata": {
        "id": "28d758de-2ecd-44d3-b933-5688284d7e31"
      },
      "outputs": [],
      "source": [
        "part_masses = {'frame': 310, 'gimbal':491, 'gps antennae': 311, 'gps receiver': 480, 'stellar gyroscope': 52}"
      ]
    },
    {
      "cell_type": "code",
      "execution_count": null,
      "id": "8f17086b-afa4-4ba7-b41b-73408530d1e6",
      "metadata": {
        "id": "8f17086b-afa4-4ba7-b41b-73408530d1e6",
        "outputId": "f613c135-d726-421d-9e2c-9258f83cbbdd"
      },
      "outputs": [
        {
          "name": "stdout",
          "output_type": "stream",
          "text": [
            "the gimbal mass is 491 grams\n"
          ]
        }
      ],
      "source": [
        "print('the gimbal mass is', part_masses['gimbal'], 'grams')"
      ]
    },
    {
      "cell_type": "code",
      "execution_count": null,
      "id": "2bd65035-618e-4a4d-9059-9bf79ff42d10",
      "metadata": {
        "id": "2bd65035-618e-4a4d-9059-9bf79ff42d10"
      },
      "outputs": [],
      "source": [
        "part_masses['battery'] = 834"
      ]
    },
    {
      "cell_type": "code",
      "execution_count": null,
      "id": "071d56e1-5ed6-49e5-9c4c-d1a264e73e93",
      "metadata": {
        "id": "071d56e1-5ed6-49e5-9c4c-d1a264e73e93",
        "outputId": "ba64ac07-47e6-49e6-94f1-ecee4028db7c"
      },
      "outputs": [
        {
          "name": "stdout",
          "output_type": "stream",
          "text": [
            "{'frame': 310, 'gimbal': 491, 'gps antennae': 311, 'gps receiver': 480, 'stellar gyroscope': 52, 'battery': 834}\n"
          ]
        }
      ],
      "source": [
        "print(part_masses)"
      ]
    },
    {
      "cell_type": "code",
      "execution_count": 6,
      "id": "b6013648-572d-4bd5-b245-23a9c78de2f2",
      "metadata": {
        "colab": {
          "base_uri": "https://localhost:8080/",
          "height": 472
        },
        "id": "b6013648-572d-4bd5-b245-23a9c78de2f2",
        "outputId": "4459df68-d501-4a91-eebb-293def7e76ec"
      },
      "outputs": [
        {
          "output_type": "display_data",
          "data": {
            "text/plain": [
              "<Figure size 640x480 with 1 Axes>"
            ],
            "image/png": "[encoded data removed]"
          },
          "metadata": {}
        }
      ],
      "source": [
        "import matplotlib.pyplot as plot\n",
        "fig, axis = plot.subplots()\n",
        "plot_options = {'color': 'blue'}\n",
        "axis.plot([1, 4, 9, 16], **plot_options) # y\n",
        "plot_options = {'title': 'function'}\n",
        "axis.set(xlabel='Time', ylabel='Voltage (mV)',xlim=(0, 5), **plot_options)\n",
        "plot.show()"
      ]
    },
    {
      "cell_type": "code",
      "execution_count": null,
      "id": "96b5f7f0-e890-4264-88eb-e1fbb819668b",
      "metadata": {
        "id": "96b5f7f0-e890-4264-88eb-e1fbb819668b",
        "outputId": "f40d9910-b0cf-4962-991f-e75c284d7d33"
      },
      "outputs": [
        {
          "data": {
            "image/png": "[encoded data removed]",
            "text/plain": [
              "<Figure size 640x480 with 1 Axes>"
            ]
          },
          "metadata": {},
          "output_type": "display_data"
        }
      ],
      "source": [
        "import matplotlib.pyplot as plot\n",
        "# dictionary of plot style options\n",
        "plot_options = {'color': 'blue', 'linewidth': 2, 'linestyle': '--'}\n",
        "plot.plot([x*x for x in range(5)], **plot_options) \n",
        "plot.show() \n",
        "\n",
        "data={'temperature': 23,\n",
        "      'pressure': 49, \n",
        "      'humidity': 22}"
      ]
    },
    {
      "cell_type": "code",
      "execution_count": null,
      "id": "a6adbda5-f332-42e8-836a-82591279526d",
      "metadata": {
        "id": "a6adbda5-f332-42e8-836a-82591279526d",
        "outputId": "3f245b17-da75-41ab-861f-0ec8cb5e37bf"
      },
      "outputs": [
        {
          "data": {
            "text/plain": [
              "[0.8177260695103661,\n",
              " 0.7162975160923758,\n",
              " 0.37742467450844364,\n",
              " 0.07496123343864425,\n",
              " 0.31098135575563046,\n",
              " 0.10375499320603565,\n",
              " 0.7036176818116443,\n",
              " 0.4826731401676937,\n",
              " 0.3924190547790435,\n",
              " 0.7140549271645734]"
            ]
          },
          "execution_count": 8,
          "metadata": {},
          "output_type": "execute_result"
        }
      ],
      "source": [
        "import random\n",
        "[random.random() for num in range(10)]"
      ]
    },
    {
      "cell_type": "code",
      "execution_count": null,
      "id": "30becfc0-c808-4341-8c36-1e34cd029677",
      "metadata": {
        "id": "30becfc0-c808-4341-8c36-1e34cd029677"
      },
      "outputs": [],
      "source": []
    },
    {
      "cell_type": "code",
      "execution_count": null,
      "id": "444762e0-a197-4ec8-988d-419065c38eca",
      "metadata": {
        "id": "444762e0-a197-4ec8-988d-419065c38eca",
        "outputId": "726151d0-6b01-46b6-fead-ab467ab71d96"
      },
      "outputs": [
        {
          "name": "stdout",
          "output_type": "stream",
          "text": [
            "[100, 200, 300, 200, 400, 600, 300, 600, 900, 400, 800, 1200]\n",
            "{'1*100': 100, '1*200': 200, '1*300': 300, '2*100': 200, '2*200': 400, '2*300': 600, '3*100': 300, '3*200': 600, '3*300': 900, '4*100': 400, '4*200': 800, '4*300': 1200}\n",
            "{(1, 100): 100, (1, 200): 200, (1, 300): 300, (2, 100): 200, (2, 200): 400, (2, 300): 600, (3, 100): 300, (3, 200): 600, (3, 300): 900, (4, 100): 400, (4, 200): 800, (4, 300): 1200}\n"
          ]
        }
      ],
      "source": [
        "print([inner*outer for inner in [1, 2, 3, 4] for outer in [100, 200, 300]])\n",
        "\n",
        "print({str(inner)+'*'+str(outer): inner*outer for inner in [1, 2, 3, 4] for outer in [100, 200, 300]})\n",
        "\n",
        "print({(inner, outer): inner*outer for inner in [1, 2, 3, 4] for outer in [100, 200, 300]})"
      ]
    },
    {
      "cell_type": "code",
      "execution_count": null,
      "id": "842b0ab9-fb88-4ff9-b04a-54bbfae530db",
      "metadata": {
        "id": "842b0ab9-fb88-4ff9-b04a-54bbfae530db",
        "outputId": "4b2d91d2-c561-40a9-daff-8baa8e9adf2f"
      },
      "outputs": [
        {
          "ename": "ZeroDivisionError",
          "evalue": "division by zero",
          "output_type": "error",
          "traceback": [
            "\u001b[0;31m---------------------------------------------------------------------------\u001b[0m",
            "\u001b[0;31mZeroDivisionError\u001b[0m                         Traceback (most recent call last)",
            "\u001b[0;32m/var/folders/nb/lqpqgz253d7bh24zdjqk_vvr0000gq/T/ipykernel_60729/1806623527.py\u001b[0m in \u001b[0;36m<module>\u001b[0;34m\u001b[0m\n\u001b[0;32m----> 1\u001b[0;31m \u001b[0mx\u001b[0m \u001b[0;34m=\u001b[0m \u001b[0;36m5\u001b[0m \u001b[0;34m/\u001b[0m \u001b[0;36m0\u001b[0m\u001b[0;34m\u001b[0m\u001b[0;34m\u001b[0m\u001b[0m\n\u001b[0m",
            "\u001b[0;31mZeroDivisionError\u001b[0m: division by zero"
          ]
        }
      ],
      "source": [
        "x = 5 / 0"
      ]
    },
    {
      "cell_type": "code",
      "execution_count": null,
      "id": "b8c413b4-51ba-4bcd-9b70-c5c3728f6dec",
      "metadata": {
        "id": "b8c413b4-51ba-4bcd-9b70-c5c3728f6dec",
        "outputId": "2a79758f-47bd-4f3e-dd0f-5041f0b363f7"
      },
      "outputs": [
        {
          "name": "stdout",
          "output_type": "stream",
          "text": [
            "You can't divide by zero\n"
          ]
        }
      ],
      "source": [
        "try:\n",
        "    x = 5 / 0\n",
        "except ZeroDivisionError:\n",
        "    print(\"You can't divide by zero\")"
      ]
    },
    {
      "cell_type": "code",
      "execution_count": null,
      "id": "7dda827c-39ee-4598-9636-597bfd3f3eaf",
      "metadata": {
        "id": "7dda827c-39ee-4598-9636-597bfd3f3eaf",
        "outputId": "4db91384-1251-4e17-f40b-1a75074987b9"
      },
      "outputs": [
        {
          "name": "stdout",
          "output_type": "stream",
          "text": [
            "The weight is 450 kilograms\n"
          ]
        }
      ],
      "source": [
        "weight = 450\n",
        "print(\"The weight is\", weight, \"kilograms\")"
      ]
    },
    {
      "cell_type": "code",
      "execution_count": null,
      "id": "5e28b684-4172-44d0-a932-a3c0b32a3098",
      "metadata": {
        "id": "5e28b684-4172-44d0-a932-a3c0b32a3098",
        "outputId": "d9feaeca-3d5d-40da-a516-ac1cc8666b7d"
      },
      "outputs": [
        {
          "name": "stdout",
          "output_type": "stream",
          "text": [
            "Volume = 523.5987755982989\n",
            "Volume = 523.6\n"
          ]
        }
      ],
      "source": [
        "import math\n",
        "r = 5\n",
        "volume = 4/3 * math.pi * r**3\n",
        "print ('Volume =', volume)\n",
        "\n",
        "pi = 3.1415926535897931\n",
        "r = 5\n",
        "volume = 4/3 * math.pi * r**3\n",
        "print(f'Volume = {volume:.1f}')\n"
      ]
    },
    {
      "cell_type": "markdown",
      "id": "849056b3",
      "metadata": {
        "id": "849056b3"
      },
      "source": [
        "### Number Format Options"
      ]
    },
    {
      "cell_type": "code",
      "execution_count": 7,
      "id": "a1853f85",
      "metadata": {
        "colab": {
          "base_uri": "https://localhost:8080/"
        },
        "id": "a1853f85",
        "outputId": "16f270be-fa9e-462e-9ec3-6b7d77df7378"
      },
      "outputs": [
        {
          "output_type": "stream",
          "name": "stdout",
          "text": [
            "pi = 3.142E+00\n",
            "c = 299,792,458 m/s\n",
            "c = 2.99792e+08 m/s \n",
            "pi = 3.14159\n",
            "c = 2.99792E+08 m/s \n",
            "pi = 3.14159\n",
            "c = +2.99792E+08 m/s\n",
            "c = +299792458.000000 m/s\n",
            "d Decimal format\n",
            "c = 299792458 m/s\n",
            "f\t&\t\tFix point number format \n",
            "c = 299792458 m/s \n",
            "pi = 3.14\n",
            "F\t&\t\tFix point number format \n",
            "c = 299792458 m/s \n",
            "pi = 3.14\n",
            ":b\t&\t\tBinary format \n",
            "255 binary = 11111111\n",
            ":o\t&\tOctal format\n",
            "255 octal = 377\n"
          ]
        }
      ],
      "source": [
        "c = 299792458 # m/s\n",
        "\n",
        "PI = 3.141592653589793\n",
        "GRAVITY = 9.8\n",
        "\n",
        "print(f'{pi = :.3E}')\n",
        "\n",
        "#print(f\"{velocity:<8.2f} {height(velocity):<8.2f}\" for velocity in range(0, 50, 10))\n",
        "\n",
        "print(f'{c = :,} m/s')\n",
        "\n",
        "print(f'{c = :g} m/s \\n{pi = :g}')\n",
        "\n",
        "print(f'{c = :G} m/s \\n{pi = :G}')\n",
        "\n",
        "\n",
        "print(f'{c = :+G} m/s')\n",
        "\n",
        "\n",
        "print(f'{c = :+f} m/s')\n",
        "\n",
        "print(f'd Decimal format')\n",
        "print(f'{c = :d} m/s')\n",
        "\n",
        "print(f'f\t&\t\tFix point number format ')\n",
        "print(f'{c = :.0f} m/s \\n{pi = :.2f}')\n",
        "\n",
        "print(f'F\t&\t\tFix point number format ')\n",
        "print(f'{c = :.0F} m/s \\n{pi = :.2F}')\n",
        "\n",
        "\n",
        "print(f':b\t&\t\tBinary format ')\n",
        "print(f'255 binary = {255:b}')\n",
        "\n",
        "print(f':o\t&\tOctal format')\n",
        "print(f'255 octal = {255:o}')\n"
      ]
    },
    {
      "cell_type": "markdown",
      "id": "a781510a-5fad-421f-9920-b9d3c41928b9",
      "metadata": {
        "id": "a781510a-5fad-421f-9920-b9d3c41928b9"
      },
      "source": [
        "# Introduction {Introduction}\n",
        "\n",
        "see chapter [\\[Open Source Software\\]][1]\n",
        "\n",
        "The equations of motion are:\n",
        "\n",
        "$x(t) = x_o + vt + \\frac{1}{2}at^2$\n",
        "\n",
        "**listinline**\n",
        "\n",
        "Use the `for` statement to specify a new condition if the first\n",
        "condition is `print([(time, v0 * time) for time in range(10)])`.\n",
        "\n",
        "Use the `for` statement to specify a new condition if the first\n",
        "condition is `print([(time, v0 * time) for time in range(10)])`.\n",
        "\n",
        "``` {.python3.8 language=\"python3.8\"}\n",
        "# comment\n",
        "def euler(f,y0,a,b,h):\n",
        "    t,y = a,y0\n",
        "    while t <= b:\n",
        "        print (\"%6.3f %6.3f\" % (t,y))\n",
        "        t += h\n",
        "        y += h * f(t,y)\n",
        " \n",
        "def newtoncooling(time, temp):\n",
        "    return -0.07 * (temp - 20)\n",
        " \n",
        "euler(newtoncooling,100,0,100,10)\n",
        "```\n",
        "\n",
        "```python\n",
        "# comment\n",
        "def euler(f,y0,a,b,h):\n",
        "    t,y = a,y0\n",
        "    while t <= b:\n",
        "        print (\"%6.3f %6.3f\" % (t,y))\n",
        "        t += h\n",
        "        y += h * f(t,y)\n",
        " \n",
        "def newtoncooling(time, temp):\n",
        "    return -0.07 * (temp - 20)\n",
        " \n",
        "euler(newtoncooling,100,0,100,10)\n",
        "```\n",
        "\n",
        "```python\n",
        "# comment\n",
        "def euler(f,y0,a,b,h):\n",
        "    t,y = a,y0\n",
        "    while t <= b:\n",
        "        print (\"%6.3f %6.3f\" % (t,y))\n",
        "        t += h\n",
        "        y += h * f(t,y)\n",
        " \n",
        "def newtoncooling(time, temp):\n",
        "    return -0.07 * (temp - 20)\n",
        " \n",
        "euler(newtoncooling,100,0,100,10)\n",
        "```\n",
        "\n",
        "  [1]: #Open Source Software {reference-type=\"ref\"\n",
        "  reference=\"Open Source Software\"}"
      ]
    },
    {
      "cell_type": "code",
      "execution_count": null,
      "id": "5fd919ad-5a9c-4c91-8cea-0d55d5137653",
      "metadata": {
        "id": "5fd919ad-5a9c-4c91-8cea-0d55d5137653",
        "outputId": "a1ce4fad-6f2b-4c75-93cc-05a5a91c112f"
      },
      "outputs": [
        {
          "name": "stdout",
          "output_type": "stream",
          "text": [
            "uno\n",
            "uno 5 dos\n"
          ]
        }
      ],
      "source": [
        "print('uno')\n",
        "z=5\n",
        "print('uno', z, 'dos')"
      ]
    },
    {
      "cell_type": "markdown",
      "id": "1552f088-c500-4c07-a52c-679d566110bb",
      "metadata": {
        "id": "1552f088-c500-4c07-a52c-679d566110bb"
      },
      "source": [
        "print(5/3)\n",
        "int(5/3)"
      ]
    }
  ],
  "metadata": {
    "kernelspec": {
      "display_name": "Python 3 (ipykernel)",
      "language": "python",
      "name": "python3"
    },
    "language_info": {
      "codemirror_mode": {
        "name": "ipython",
        "version": 3
      },
      "file_extension": ".py",
      "mimetype": "text/x-python",
      "name": "python",
      "nbconvert_exporter": "python",
      "pygments_lexer": "ipython3",
      "version": "3.9.7"
    },
    "colab": {
      "provenance": [],
      "include_colab_link": true
    }
  },
  "nbformat": 4,
  "nbformat_minor": 5
}